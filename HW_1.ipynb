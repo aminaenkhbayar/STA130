{
 "cells": [
  {
   "cell_type": "code",
   "execution_count": 4,
   "id": "ebafc728",
   "metadata": {},
   "outputs": [
    {
     "data": {
      "text/html": [
       "<div>\n",
       "<style scoped>\n",
       "    .dataframe tbody tr th:only-of-type {\n",
       "        vertical-align: middle;\n",
       "    }\n",
       "\n",
       "    .dataframe tbody tr th {\n",
       "        vertical-align: top;\n",
       "    }\n",
       "\n",
       "    .dataframe thead th {\n",
       "        text-align: right;\n",
       "    }\n",
       "</style>\n",
       "<table border=\"1\" class=\"dataframe\">\n",
       "  <thead>\n",
       "    <tr style=\"text-align: right;\">\n",
       "      <th></th>\n",
       "      <th>row_n</th>\n",
       "      <th>id</th>\n",
       "      <th>name</th>\n",
       "      <th>gender</th>\n",
       "      <th>species</th>\n",
       "      <th>birthday</th>\n",
       "      <th>personality</th>\n",
       "      <th>song</th>\n",
       "      <th>phrase</th>\n",
       "      <th>full_id</th>\n",
       "      <th>url</th>\n",
       "    </tr>\n",
       "  </thead>\n",
       "  <tbody>\n",
       "    <tr>\n",
       "      <th>0</th>\n",
       "      <td>2</td>\n",
       "      <td>admiral</td>\n",
       "      <td>Admiral</td>\n",
       "      <td>male</td>\n",
       "      <td>bird</td>\n",
       "      <td>1-27</td>\n",
       "      <td>cranky</td>\n",
       "      <td>Steep Hill</td>\n",
       "      <td>aye aye</td>\n",
       "      <td>villager-admiral</td>\n",
       "      <td>https://villagerdb.com/images/villagers/thumb/...</td>\n",
       "    </tr>\n",
       "    <tr>\n",
       "      <th>1</th>\n",
       "      <td>3</td>\n",
       "      <td>agent-s</td>\n",
       "      <td>Agent S</td>\n",
       "      <td>female</td>\n",
       "      <td>squirrel</td>\n",
       "      <td>7-2</td>\n",
       "      <td>peppy</td>\n",
       "      <td>DJ K.K.</td>\n",
       "      <td>sidekick</td>\n",
       "      <td>villager-agent-s</td>\n",
       "      <td>https://villagerdb.com/images/villagers/thumb/...</td>\n",
       "    </tr>\n",
       "    <tr>\n",
       "      <th>2</th>\n",
       "      <td>4</td>\n",
       "      <td>agnes</td>\n",
       "      <td>Agnes</td>\n",
       "      <td>female</td>\n",
       "      <td>pig</td>\n",
       "      <td>4-21</td>\n",
       "      <td>uchi</td>\n",
       "      <td>K.K. House</td>\n",
       "      <td>snuffle</td>\n",
       "      <td>villager-agnes</td>\n",
       "      <td>https://villagerdb.com/images/villagers/thumb/...</td>\n",
       "    </tr>\n",
       "    <tr>\n",
       "      <th>3</th>\n",
       "      <td>6</td>\n",
       "      <td>al</td>\n",
       "      <td>Al</td>\n",
       "      <td>male</td>\n",
       "      <td>gorilla</td>\n",
       "      <td>10-18</td>\n",
       "      <td>lazy</td>\n",
       "      <td>Steep Hill</td>\n",
       "      <td>Ayyeeee</td>\n",
       "      <td>villager-al</td>\n",
       "      <td>https://villagerdb.com/images/villagers/thumb/...</td>\n",
       "    </tr>\n",
       "    <tr>\n",
       "      <th>4</th>\n",
       "      <td>7</td>\n",
       "      <td>alfonso</td>\n",
       "      <td>Alfonso</td>\n",
       "      <td>male</td>\n",
       "      <td>alligator</td>\n",
       "      <td>6-9</td>\n",
       "      <td>lazy</td>\n",
       "      <td>Forest Life</td>\n",
       "      <td>it'sa me</td>\n",
       "      <td>villager-alfonso</td>\n",
       "      <td>https://villagerdb.com/images/villagers/thumb/...</td>\n",
       "    </tr>\n",
       "    <tr>\n",
       "      <th>...</th>\n",
       "      <td>...</td>\n",
       "      <td>...</td>\n",
       "      <td>...</td>\n",
       "      <td>...</td>\n",
       "      <td>...</td>\n",
       "      <td>...</td>\n",
       "      <td>...</td>\n",
       "      <td>...</td>\n",
       "      <td>...</td>\n",
       "      <td>...</td>\n",
       "      <td>...</td>\n",
       "    </tr>\n",
       "    <tr>\n",
       "      <th>386</th>\n",
       "      <td>475</td>\n",
       "      <td>winnie</td>\n",
       "      <td>Winnie</td>\n",
       "      <td>female</td>\n",
       "      <td>horse</td>\n",
       "      <td>1-31</td>\n",
       "      <td>peppy</td>\n",
       "      <td>My Place</td>\n",
       "      <td>hay-OK</td>\n",
       "      <td>villager-winnie</td>\n",
       "      <td>https://villagerdb.com/images/villagers/thumb/...</td>\n",
       "    </tr>\n",
       "    <tr>\n",
       "      <th>387</th>\n",
       "      <td>477</td>\n",
       "      <td>wolfgang</td>\n",
       "      <td>Wolfgang</td>\n",
       "      <td>male</td>\n",
       "      <td>wolf</td>\n",
       "      <td>11-25</td>\n",
       "      <td>cranky</td>\n",
       "      <td>K.K. Song</td>\n",
       "      <td>snarrrl</td>\n",
       "      <td>villager-wolfgang</td>\n",
       "      <td>https://villagerdb.com/images/villagers/thumb/...</td>\n",
       "    </tr>\n",
       "    <tr>\n",
       "      <th>388</th>\n",
       "      <td>480</td>\n",
       "      <td>yuka</td>\n",
       "      <td>Yuka</td>\n",
       "      <td>female</td>\n",
       "      <td>koala</td>\n",
       "      <td>7-20</td>\n",
       "      <td>snooty</td>\n",
       "      <td>Soulful K.K.</td>\n",
       "      <td>tsk tsk</td>\n",
       "      <td>villager-yuka</td>\n",
       "      <td>https://villagerdb.com/images/villagers/thumb/...</td>\n",
       "    </tr>\n",
       "    <tr>\n",
       "      <th>389</th>\n",
       "      <td>481</td>\n",
       "      <td>zell</td>\n",
       "      <td>Zell</td>\n",
       "      <td>male</td>\n",
       "      <td>deer</td>\n",
       "      <td>6-7</td>\n",
       "      <td>smug</td>\n",
       "      <td>K.K. D&amp;B</td>\n",
       "      <td>pronk</td>\n",
       "      <td>villager-zell</td>\n",
       "      <td>https://villagerdb.com/images/villagers/thumb/...</td>\n",
       "    </tr>\n",
       "    <tr>\n",
       "      <th>390</th>\n",
       "      <td>483</td>\n",
       "      <td>zucker</td>\n",
       "      <td>Zucker</td>\n",
       "      <td>male</td>\n",
       "      <td>octopus</td>\n",
       "      <td>3-8</td>\n",
       "      <td>lazy</td>\n",
       "      <td>Spring Blossoms</td>\n",
       "      <td>bloop</td>\n",
       "      <td>villager-zucker</td>\n",
       "      <td>https://villagerdb.com/images/villagers/thumb/...</td>\n",
       "    </tr>\n",
       "  </tbody>\n",
       "</table>\n",
       "<p>391 rows × 11 columns</p>\n",
       "</div>"
      ],
      "text/plain": [
       "     row_n        id      name  gender    species birthday personality  \\\n",
       "0        2   admiral   Admiral    male       bird     1-27      cranky   \n",
       "1        3   agent-s   Agent S  female   squirrel      7-2       peppy   \n",
       "2        4     agnes     Agnes  female        pig     4-21        uchi   \n",
       "3        6        al        Al    male    gorilla    10-18        lazy   \n",
       "4        7   alfonso   Alfonso    male  alligator      6-9        lazy   \n",
       "..     ...       ...       ...     ...        ...      ...         ...   \n",
       "386    475    winnie    Winnie  female      horse     1-31       peppy   \n",
       "387    477  wolfgang  Wolfgang    male       wolf    11-25      cranky   \n",
       "388    480      yuka      Yuka  female      koala     7-20      snooty   \n",
       "389    481      zell      Zell    male       deer      6-7        smug   \n",
       "390    483    zucker    Zucker    male    octopus      3-8        lazy   \n",
       "\n",
       "                song    phrase            full_id  \\\n",
       "0         Steep Hill   aye aye   villager-admiral   \n",
       "1            DJ K.K.  sidekick   villager-agent-s   \n",
       "2         K.K. House   snuffle     villager-agnes   \n",
       "3         Steep Hill   Ayyeeee        villager-al   \n",
       "4        Forest Life  it'sa me   villager-alfonso   \n",
       "..               ...       ...                ...   \n",
       "386         My Place    hay-OK    villager-winnie   \n",
       "387        K.K. Song   snarrrl  villager-wolfgang   \n",
       "388     Soulful K.K.   tsk tsk      villager-yuka   \n",
       "389         K.K. D&B     pronk      villager-zell   \n",
       "390  Spring Blossoms     bloop    villager-zucker   \n",
       "\n",
       "                                                   url  \n",
       "0    https://villagerdb.com/images/villagers/thumb/...  \n",
       "1    https://villagerdb.com/images/villagers/thumb/...  \n",
       "2    https://villagerdb.com/images/villagers/thumb/...  \n",
       "3    https://villagerdb.com/images/villagers/thumb/...  \n",
       "4    https://villagerdb.com/images/villagers/thumb/...  \n",
       "..                                                 ...  \n",
       "386  https://villagerdb.com/images/villagers/thumb/...  \n",
       "387  https://villagerdb.com/images/villagers/thumb/...  \n",
       "388  https://villagerdb.com/images/villagers/thumb/...  \n",
       "389  https://villagerdb.com/images/villagers/thumb/...  \n",
       "390  https://villagerdb.com/images/villagers/thumb/...  \n",
       "\n",
       "[391 rows x 11 columns]"
      ]
     },
     "execution_count": 4,
     "metadata": {},
     "output_type": "execute_result"
    }
   ],
   "source": [
    "import pandas as pd\n",
    "url = \"https://raw.githubusercontent.com/rfordatascience/tidytuesday/master/data/2020/2020-05-05/villagers.csv\"\n",
    "df = pd.read_csv(url)\n",
    "df"
   ]
  },
  {
   "cell_type": "code",
   "execution_count": 2,
   "id": "180ac28f",
   "metadata": {},
   "outputs": [
    {
     "name": "stdout",
     "output_type": "stream",
     "text": [
      "Number of rows: 391\n",
      "Number of columns: 11\n"
     ]
    }
   ],
   "source": [
    "import pandas as pd\n",
    "\n",
    "# Load the dataset\n",
    "url = \"https://raw.githubusercontent.com/rfordatascience/tidytuesday/master/data/2020/2020-05-05/villagers.csv\"\n",
    "data = pd.read_csv(url)\n",
    "\n",
    "# Print the number of rows and columns\n",
    "print(f\"Number of rows: {data.shape[0]}\")\n",
    "print(f\"Number of columns: {data.shape[1]}\")\n"
   ]
  },
  {
   "cell_type": "code",
   "execution_count": 3,
   "id": "4d82f580",
   "metadata": {},
   "outputs": [
    {
     "name": "stdout",
     "output_type": "stream",
     "text": [
      "row_n           0\n",
      "id              1\n",
      "name            0\n",
      "gender          0\n",
      "species         0\n",
      "birthday        0\n",
      "personality     0\n",
      "song           11\n",
      "phrase          0\n",
      "full_id         0\n",
      "url             0\n",
      "dtype: int64\n"
     ]
    }
   ],
   "source": [
    "\n",
    "# Check for missing values in each column\n",
    "missing_values = df.isna().sum()\n",
    "\n",
    "# Print the missing values count for each column\n",
    "print(missing_values)\n",
    "\n"
   ]
  },
  {
   "cell_type": "markdown",
   "id": "a086b7be",
   "metadata": {
    "slideshow": {
     "slide_type": "subslide"
    }
   },
   "source": [
    "OBSERVATION: refers row of specific one type of data among the data table. For example,data set about blood type of different nation, each row might represents blood types."
   ]
  },
  {
   "cell_type": "markdown",
   "id": "a62796f0",
   "metadata": {},
   "source": [
    "VARIABLES: refers column of the table with different type of information collegted by measurement or record. Each has connection with the observation."
   ]
  },
  {
   "cell_type": "markdown",
   "id": "2e23e863",
   "metadata": {},
   "source": [
    "4.   df.shape  provides the dimensions of the DataFrame. It returns a tuple with the number of rows and columns in the dataset."
   ]
  },
  {
   "cell_type": "markdown",
   "id": "4a86893e",
   "metadata": {},
   "source": [
    "     df.describe() provides summary statistics for numeric columns in the DataFrame. It calculates metrics such as count, mean, standard deviation, min, and percentiles."
   ]
  },
  {
   "cell_type": "code",
   "execution_count": 7,
   "id": "ba46942e",
   "metadata": {},
   "outputs": [
    {
     "name": "stdout",
     "output_type": "stream",
     "text": [
      "Shape of the dataset: (891, 15)\n",
      "\n",
      "First few rows:\n",
      "   survived  pclass     sex   age  sibsp  parch     fare embarked  class  \\\n",
      "0         0       3    male  22.0      1      0   7.2500        S  Third   \n",
      "1         1       1  female  38.0      1      0  71.2833        C  First   \n",
      "2         1       3  female  26.0      0      0   7.9250        S  Third   \n",
      "3         1       1  female  35.0      1      0  53.1000        S  First   \n",
      "4         0       3    male  35.0      0      0   8.0500        S  Third   \n",
      "\n",
      "     who  adult_male deck  embark_town alive  alone  \n",
      "0    man        True  NaN  Southampton    no  False  \n",
      "1  woman       False    C    Cherbourg   yes  False  \n",
      "2  woman       False  NaN  Southampton   yes   True  \n",
      "3  woman       False    C  Southampton   yes  False  \n",
      "4    man        True  NaN  Southampton    no   True  \n",
      "\n",
      "Column data types:\n",
      "survived         int64\n",
      "pclass           int64\n",
      "sex             object\n",
      "age            float64\n",
      "sibsp            int64\n",
      "parch            int64\n",
      "fare           float64\n",
      "embarked        object\n",
      "class           object\n",
      "who             object\n",
      "adult_male        bool\n",
      "deck            object\n",
      "embark_town     object\n",
      "alive           object\n",
      "alone             bool\n",
      "dtype: object\n",
      "\n",
      "Descriptive statistics for numeric columns:\n",
      "         survived      pclass         age       sibsp       parch        fare\n",
      "count  891.000000  891.000000  714.000000  891.000000  891.000000  891.000000\n",
      "mean     0.383838    2.308642   29.699118    0.523008    0.381594   32.204208\n",
      "std      0.486592    0.836071   14.526497    1.102743    0.806057   49.693429\n",
      "min      0.000000    1.000000    0.420000    0.000000    0.000000    0.000000\n",
      "25%      0.000000    2.000000   20.125000    0.000000    0.000000    7.910400\n",
      "50%      0.000000    3.000000   28.000000    0.000000    0.000000   14.454200\n",
      "75%      1.000000    3.000000   38.000000    1.000000    0.000000   31.000000\n",
      "max      1.000000    3.000000   80.000000    8.000000    6.000000  512.329200\n",
      "\n",
      "Information about the dataset:\n",
      "<class 'pandas.core.frame.DataFrame'>\n",
      "RangeIndex: 891 entries, 0 to 890\n",
      "Data columns (total 15 columns):\n",
      " #   Column       Non-Null Count  Dtype  \n",
      "---  ------       --------------  -----  \n",
      " 0   survived     891 non-null    int64  \n",
      " 1   pclass       891 non-null    int64  \n",
      " 2   sex          891 non-null    object \n",
      " 3   age          714 non-null    float64\n",
      " 4   sibsp        891 non-null    int64  \n",
      " 5   parch        891 non-null    int64  \n",
      " 6   fare         891 non-null    float64\n",
      " 7   embarked     889 non-null    object \n",
      " 8   class        891 non-null    object \n",
      " 9   who          891 non-null    object \n",
      " 10  adult_male   891 non-null    bool   \n",
      " 11  deck         203 non-null    object \n",
      " 12  embark_town  889 non-null    object \n",
      " 13  alive        891 non-null    object \n",
      " 14  alone        891 non-null    bool   \n",
      "dtypes: bool(2), float64(2), int64(4), object(7)\n",
      "memory usage: 92.4+ KB\n",
      "None\n",
      "\n",
      "Counts for categorical variables:\n",
      "\n",
      "sex value counts:\n",
      "sex\n",
      "male      577\n",
      "female    314\n",
      "Name: count, dtype: int64\n",
      "\n",
      "embarked value counts:\n",
      "embarked\n",
      "S    644\n",
      "C    168\n",
      "Q     77\n",
      "Name: count, dtype: int64\n",
      "\n",
      "class value counts:\n",
      "class\n",
      "Third     491\n",
      "First     216\n",
      "Second    184\n",
      "Name: count, dtype: int64\n",
      "\n",
      "who value counts:\n",
      "who\n",
      "man      537\n",
      "woman    271\n",
      "child     83\n",
      "Name: count, dtype: int64\n",
      "\n",
      "deck value counts:\n",
      "deck\n",
      "C    59\n",
      "B    47\n",
      "D    33\n",
      "E    32\n",
      "A    15\n",
      "F    13\n",
      "G     4\n",
      "Name: count, dtype: int64\n",
      "\n",
      "embark_town value counts:\n",
      "embark_town\n",
      "Southampton    644\n",
      "Cherbourg      168\n",
      "Queenstown      77\n",
      "Name: count, dtype: int64\n",
      "\n",
      "alive value counts:\n",
      "alive\n",
      "no     549\n",
      "yes    342\n",
      "Name: count, dtype: int64\n"
     ]
    }
   ],
   "source": [
    "import pandas as pd\n",
    "\n",
    "# Load the Titanic dataset\n",
    "url = \"https://raw.githubusercontent.com/mwaskom/seaborn-data/master/titanic.csv\"\n",
    "df = pd.read_csv(url)\n",
    "\n",
    "# General overview\n",
    "print(\"Shape of the dataset:\", df.shape)\n",
    "print(\"\\nFirst few rows:\")\n",
    "print(df.head())\n",
    "\n",
    "# Check column data types\n",
    "print(\"\\nColumn data types:\")\n",
    "print(df.dtypes)\n",
    "\n",
    "# Convert columns to numeric where appropriate\n",
    "# For demonstration, assume columns that should be numeric are 'age', 'fare'\n",
    "numeric_columns = ['age', 'fare']\n",
    "for col in numeric_columns:\n",
    "    df[col] = pd.to_numeric(df[col], errors='coerce')\n",
    "\n",
    "# Descriptive statistics for numeric columns\n",
    "print(\"\\nDescriptive statistics for numeric columns:\")\n",
    "print(df.describe())\n",
    "\n",
    "# Information about the dataset including missing values\n",
    "print(\"\\nInformation about the dataset:\")\n",
    "print(df.info())\n",
    "\n",
    "# Count unique values for categorical columns\n",
    "print(\"\\nCounts for categorical variables:\")\n",
    "categorical_columns = df.select_dtypes(include=['object']).columns\n",
    "for col in categorical_columns:\n",
    "    print(f\"\\n{col} value counts:\")\n",
    "    print(df[col].value_counts())\n"
   ]
  },
  {
   "cell_type": "markdown",
   "id": "a8b9be67",
   "metadata": {},
   "source": [
    "df_cleaned = df.dropna(axis=1)\n",
    "del df['col']"
   ]
  },
  {
   "cell_type": "markdown",
   "id": "8a4a2e53",
   "metadata": {},
   "source": [
    "7.1 it allows you to keep the rows with complete data not whole. Imagine you have a survey dataset with several questions, but some respondents have left certain questions unanswered. Your goal is to analyze the dataset, but you need to ensure that the records you work with have complete responses for a specific analysis."
   ]
  },
  {
   "cell_type": "markdown",
   "id": "f23fc8b5",
   "metadata": {},
   "source": [
    "7.2 'del df[col]' gives us oppurtunity to work faster and efficient by dropping whole columns.\n",
    "    Let's say you are analyzing people's satisfaction of the company's service you only need their personal information and survey answer but you have other datas such as favourite color or family members. We can drop this unrelated information for this analyze."
   ]
  },
  {
   "cell_type": "code",
   "execution_count": 12,
   "id": "1198330f",
   "metadata": {},
   "outputs": [
    {
     "name": "stdout",
     "output_type": "stream",
     "text": [
      "        count       mean        std   min   25%   50%   75%   max\n",
      "pclass                                                           \n",
      "1       186.0  38.233441  14.802856  0.92  27.0  37.0  49.0  80.0\n",
      "2       173.0  29.877630  14.001077  0.67  23.0  29.0  36.0  70.0\n",
      "3       355.0  25.140620  12.495398  0.42  18.0  24.0  32.0  74.0\n"
     ]
    }
   ],
   "source": [
    "import pandas as pd\n",
    "\n",
    "# Load the Titanic dataset\n",
    "url = \"https://raw.githubusercontent.com/mwaskom/seaborn-data/master/titanic.csv\"\n",
    "df = pd.read_csv(url)\n",
    "\n",
    "# Group by 'pclass' and describe the 'age' column\n",
    "age_stats_by_class = df.groupby(\"pclass\")[\"age\"].describe()\n",
    "\n",
    "print(age_stats_by_class)\n"
   ]
  },
  {
   "cell_type": "markdown",
   "id": "51de52fa",
   "metadata": {},
   "source": [
    "The df.groupby(\"col1\")[\"col2\"].describe() method in pandas is used to group the DataFrame by the values in col1, and then calculate descriptive statistics for col2 within each group. The describe() method provides summary statistics such as count, mean, standard deviation, minimum, and percentiles for each group.col1 represents the column used for grouping, and col2 represents the column for which you want to calculate statistics."
   ]
  },
  {
   "cell_type": "code",
   "execution_count": 13,
   "id": "d095ec68",
   "metadata": {},
   "outputs": [
    {
     "name": "stdout",
     "output_type": "stream",
     "text": [
      "              A         B         C\n",
      "count  3.000000  2.000000  3.000000\n",
      "mean   2.333333  3.000000  2.666667\n",
      "std    1.527525  1.414214  1.527525\n",
      "min    1.000000  2.000000  1.000000\n",
      "25%    1.500000  2.500000  2.000000\n",
      "50%    2.000000  3.000000  3.000000\n",
      "75%    3.000000  3.500000  3.500000\n",
      "max    4.000000  4.000000  4.000000\n"
     ]
    }
   ],
   "source": [
    "#Example without missing values\n",
    "\n",
    "import pandas as pd\n",
    "import numpy as np\n",
    "\n",
    "# Example DataFrame with some missing values\n",
    "data = {\n",
    "    'A': [1, 2, np.nan, 4],\n",
    "    'B': [np.nan, 2, np.nan, 4],\n",
    "    'C': [1, np.nan, 3, 4]\n",
    "}\n",
    "df = pd.DataFrame(data)\n",
    "\n",
    "# Describe the entire DataFrame\n",
    "print(df.describe())\n"
   ]
  },
  {
   "cell_type": "code",
   "execution_count": 14,
   "id": "516705e5",
   "metadata": {},
   "outputs": [
    {
     "name": "stdout",
     "output_type": "stream",
     "text": [
      "       count  mean       std   min   25%   50%   75%   max\n",
      "Group                                                     \n",
      "A        1.0  10.0       NaN  10.0  10.0  10.0  10.0  10.0\n",
      "B        2.0  35.0  7.071068  30.0  32.5  35.0  37.5  40.0\n"
     ]
    }
   ],
   "source": [
    "#Example with grouping\n",
    "\n",
    "# Example DataFrame\n",
    "data = {\n",
    "    'Group': ['A', 'A', 'B', 'B', 'B'],\n",
    "    'Value': [10, np.nan, 30, 40, np.nan]\n",
    "}\n",
    "df = pd.DataFrame(data)\n",
    "\n",
    "# Describe 'Value' within each 'Group'\n",
    "print(df.groupby('Group')['Value'].describe())\n"
   ]
  },
  {
   "cell_type": "markdown",
   "id": "37e86a9c",
   "metadata": {},
   "source": [
    "summary, while both methods handle missing values by excluding them from the count, df.groupby(\"col1\")[\"col2\"].describe() is particularly valuable for understanding how different segments of data (defined by col1) differ from each other, which is a key advantage over the more general overview provided by df.describe()."
   ]
  },
  {
   "cell_type": "code",
   "execution_count": 16,
   "id": "928ddb66",
   "metadata": {},
   "outputs": [
    {
     "ename": "NameError",
     "evalue": "name 'pf' is not defined",
     "output_type": "error",
     "traceback": [
      "\u001b[0;31m---------------------------------------------------------------------------\u001b[0m",
      "\u001b[0;31mNameError\u001b[0m                                 Traceback (most recent call last)",
      "Cell \u001b[0;32mIn[16], line 2\u001b[0m\n\u001b[1;32m      1\u001b[0m \u001b[38;5;66;03m#8.3.B\u001b[39;00m\n\u001b[0;32m----> 2\u001b[0m df \u001b[38;5;241m=\u001b[39m \u001b[43mpf\u001b[49m\u001b[38;5;241m.\u001b[39mread_csv(\u001b[38;5;124m\"\u001b[39m\u001b[38;5;124mhttps://raw.githubusercontent.com/mwaskom/seaborn-data/master/titanic.csv\u001b[39m\u001b[38;5;124m\"\u001b[39m)\n",
      "\u001b[0;31mNameError\u001b[0m: name 'pf' is not defined"
     ]
    }
   ],
   "source": [
    "#8.3.B\n",
    "df = pf.read_csv(\"https://raw.githubusercontent.com/mwaskom/seaborn-data/master/titanic.csv\")\n"
   ]
  },
  {
   "cell_type": "markdown",
   "id": "703484e8",
   "metadata": {},
   "source": [
    "*at best I can find tutorial videos to watch, it was very specific but took so much time compared to the chatgpt\n",
    "\n",
    "Chatgpt included fixing steps and fixed code which is very convenient."
   ]
  },
  {
   "cell_type": "code",
   "execution_count": 21,
   "id": "25ee01cc",
   "metadata": {},
   "outputs": [
    {
     "ename": "NameError",
     "evalue": "name 'titanics' is not defined",
     "output_type": "error",
     "traceback": [
      "\u001b[0;31m---------------------------------------------------------------------------\u001b[0m",
      "\u001b[0;31mNameError\u001b[0m                                 Traceback (most recent call last)",
      "Cell \u001b[0;32mIn[21], line 1\u001b[0m\n\u001b[0;32m----> 1\u001b[0m \u001b[43mtitanics\u001b[49m\u001b[38;5;241m.\u001b[39mcvs\n",
      "\u001b[0;31mNameError\u001b[0m: name 'titanics' is not defined"
     ]
    }
   ],
   "source": [
    "titanics.cvs\n"
   ]
  },
  {
   "cell_type": "markdown",
   "id": "513edb47",
   "metadata": {
    "slideshow": {
     "slide_type": "fragment"
    }
   },
   "source": [
    "google search showed me a movie named titanic first*"
   ]
  },
  {
   "cell_type": "code",
   "execution_count": null,
   "id": "183a0459",
   "metadata": {},
   "outputs": [],
   "source": [
    "https://www.google.com/search?q=NameError+Traceback+(most+recent+call+last)+Cell+In%5B17%5D%2C+line+1+----%3E+1+titanics.cvs+NameError%3A+name+%27titanics%27+is+not+defined&oq=NameError+++++++++++++++++++++++++++++++++Traceback+(most+recent+call+last)+Cell+In%5B17%5D%2C+line+1+----%3E+1+titanics.cvs+NameError%3A+name+%27titanics%27+is+not+defined&gs_lcrp=EgZjaHJvbWUyBggAEEUYOdIBBzI5NmowajeoAgCwAgA&sourceid=chrome&ie=UTF-8"
   ]
  },
  {
   "cell_type": "code",
   "execution_count": 18,
   "id": "1f2ae17d",
   "metadata": {},
   "outputs": [
    {
     "ename": "SyntaxError",
     "evalue": "invalid syntax (1054209853.py, line 1)",
     "output_type": "error",
     "traceback": [
      "\u001b[0;36m  Cell \u001b[0;32mIn[18], line 1\u001b[0;36m\u001b[0m\n\u001b[0;31m    `DF.groupby(\"col1\")[\"col2\"].describe()`\u001b[0m\n\u001b[0m    ^\u001b[0m\n\u001b[0;31mSyntaxError\u001b[0m\u001b[0;31m:\u001b[0m invalid syntax\n"
     ]
    }
   ],
   "source": [
    " `DF.groupby(\"col1\")[\"col2\"].describe()`\n",
    "    "
   ]
  },
  {
   "cell_type": "code",
   "execution_count": 19,
   "id": "f52b9b24",
   "metadata": {},
   "outputs": [
    {
     "ename": "SyntaxError",
     "evalue": "invalid syntax (674373832.py, line 1)",
     "output_type": "error",
     "traceback": [
      "\u001b[0;36m  Cell \u001b[0;32mIn[19], line 1\u001b[0;36m\u001b[0m\n\u001b[0;31m    `pd.read_csv(url`\u001b[0m\n\u001b[0m    ^\u001b[0m\n\u001b[0;31mSyntaxError\u001b[0m\u001b[0;31m:\u001b[0m invalid syntax\n"
     ]
    }
   ],
   "source": [
    " `pd.read_csv(url`\n"
   ]
  },
  {
   "cell_type": "markdown",
   "id": "7761ba5f",
   "metadata": {},
   "source": [
    "Certainly! Here's a summary of today's session:\n",
    "\n",
    "1. **Error Handling in Python**:\n",
    "   - **`NameError: name 'pf' is not defined`**: This error occurs due to a typo where `pf` was used instead of the correct alias `pd` for pandas. The fix is to replace `pf` with `pd` and ensure `import pandas as pd` is included in your code.\n",
    "   - **SyntaxError due to `describle`**: The method `describle()` was incorrectly spelled. It should be `describe()`. Correcting this resolves the syntax error.\n",
    "\n",
    "2. **Differences Between `df.shape` and `df.describe()`**:\n",
    "   - **`df.shape`** provides the overall dimensions of the DataFrame (number of rows and columns).\n",
    "   - **`df.describe()`** provides summary statistics for numeric columns only, including `count`, `mean`, `std`, `min`, `25%`, `50%`, `75%`, and `max`. The `count` in `df.describe()` shows the number of non-null entries in each numeric column.\n",
    "\n",
    "3. **Handling Missing Values and Column Analysis**:\n",
    "   - **`df.describe()`** excludes non-numeric columns and handles missing values by showing the count of non-null values.\n",
    "   - **`df.groupby(\"col1\")[\"col2\"].describe()`** provides descriptive statistics for `col2` within each group defined by `col1`, reflecting the distribution of values within each group.\n",
    "\n",
    "4. **Key Errors and Column Names**:\n",
    "   - **`KeyError: 'col1'`** indicates that the specified column does not exist in the DataFrame. To resolve this, check the actual column names using `df.columns` and use the correct column names in your methods.\n",
    "\n",
    "5. **Comparing Error Resolution Methods**:\n",
    "   - **ChatGPT**: Provides immediate and interactive help with error troubleshooting and explanations.\n",
    "   - **Google Search**: Offers a wide range of resources and solutions but may require more effort to find and interpret the correct solution.\n",
    "\n",
    "By using these steps and tools, you can effectively troubleshoot and resolve common errors in Python code, understand dataset summaries, and handle missing values in your analyses. If you have more questions or need further assistance, feel free to ask!"
   ]
  },
  {
   "cell_type": "raw",
   "id": "fd0e8c00",
   "metadata": {},
   "source": [
    "here is the gpt conversation link:  https://chatgpt.com/c/66e356de-3274-8007-91ef-61cb311c5c7b"
   ]
  },
  {
   "cell_type": "code",
   "execution_count": null,
   "id": "0cc81049",
   "metadata": {},
   "outputs": [],
   "source": []
  }
 ],
 "metadata": {
  "kernelspec": {
   "display_name": "Python 3 (ipykernel)",
   "language": "python",
   "name": "python3"
  },
  "language_info": {
   "codemirror_mode": {
    "name": "ipython",
    "version": 3
   },
   "file_extension": ".py",
   "mimetype": "text/x-python",
   "name": "python",
   "nbconvert_exporter": "python",
   "pygments_lexer": "ipython3",
   "version": "3.11.6"
  }
 },
 "nbformat": 4,
 "nbformat_minor": 5
}
